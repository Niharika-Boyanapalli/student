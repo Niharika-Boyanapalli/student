{
 "cells": [
  {
   "cell_type": "raw",
   "id": "f46d5103",
   "metadata": {
    "vscode": {
     "languageId": "raw"
    }
   },
   "source": [
    "---\n",
    "layout: post\n",
    "title: Classes and Constructors Homework\n",
    "description:  Classes and Constructors Homework\n",
    "categories: [Javascript, Homework]\n",
    "permalink: /classes-constructors-HW\n",
    "author: Makers\n",
    "---"
   ]
  },
  {
   "cell_type": "markdown",
   "id": "b0f73322",
   "metadata": {},
   "source": [
    "## <u>JavaScript Classes and Constructors Homework<u>\n",
    "By now you should have a decent grasp of classes and constructors, and how to make and build one. The following exercises should help you solidify your understanding of classes and constructors in JavaScript."
   ]
  },
  {
   "cell_type": "markdown",
   "id": "4be7bd0a",
   "metadata": {
    "vscode": {
     "languageId": "javascript"
    }
   },
   "source": [
    "## Popcorn Hack 1\n",
    "1. The class TennisPlayer has been defined for you. Create a constructor with the arguements name, rank, and rankPoints.\n",
    "2. Call the class with the arguments Novak Djokovic, 1, 16000. \n",
    "3. Add one or more of the following arguments to the initial constructor: age, tournamentsPlayed, titlesWon. Add this as part of the profile output."
   ]
  },
  {
   "cell_type": "code",
   "execution_count": null,
   "id": "7399ab93",
   "metadata": {
    "vscode": {
     "languageId": "javascript"
    }
   },
   "outputs": [
    {
     "data": {
      "application/javascript": "\nclass TennisPlayer {\n    constructor(name, rank, rankPoints, age = null, tournamentsPlayed = null, titlesWon = null) {\n        this.name = name;\n        this.rank = rank;\n        this.rankPoints = rankPoints;\n        this.age = age;\n        this.tournamentsPlayed = tournamentsPlayed;\n        this.titlesWon = titlesWon;\n    }\n\n    profile () {\n        const parts = [\n            `Hi my name is ${this.name}`,\n            `my rank is ${this.rank}`,\n            `and I have ${this.rankPoints} ranking points`\n        ];\n        const extras = [];\n        if (this.age !== null) extras.push(`${this.age} years old`);\n        if (this.tournamentsPlayed !== null) extras.push(`${this.tournamentsPlayed} tournaments`);\n        if (this.titlesWon !== null) extras.push(`${this.titlesWon} titles`);\n        const extrasStr = extras.length ? ', ' + extras.join(', ') : '';\n        console.log(parts.join(' ') + extrasStr + '.');\n    }\n}\n\n// Call the class here\nconst player = new TennisPlayer(\"Novak Djokovic\", 1, 16000, 36, 130, 96);\nplayer.profile();\n\n",
      "text/plain": [
       "<IPython.core.display.Javascript object>"
      ]
     },
     "metadata": {},
     "output_type": "display_data"
    }
   ],
   "source": [
    "%%javascript\n",
    "\n",
    "class TennisPlayer {\n",
    "    constructor(name, rank, rankPoints, age = null, tournamentsPlayed = null, titlesWon = null) {\n",
    "        this.name = name;\n",
    "        this.rank = rank;\n",
    "        this.rankPoints = rankPoints;\n",
    "        this.age = age;\n",
    "        this.tournamentsPlayed = tournamentsPlayed;\n",
    "        this.titlesWon = titlesWon;\n",
    "    }\n",
    "\n",
    "    profile () {\n",
    "        const parts = [\n",
    "            `Hi my name is ${this.name}`,\n",
    "            `my rank is ${this.rank}`,\n",
    "            `and I have ${this.rankPoints} ranking points`\n",
    "        ];\n",
    "        const extras = [];\n",
    "        if (this.age !== null) extras.push(`${this.age} years old`);\n",
    "        if (this.tournamentsPlayed !== null) extras.push(`${this.tournamentsPlayed} tournaments`);\n",
    "        if (this.titlesWon !== null) extras.push(`${this.titlesWon} titles`);\n",
    "        const extrasStr = extras.length ? ', ' + extras.join(', ') : '';\n",
    "        console.log(parts.join(' ') + extrasStr + '.');\n",
    "    }\n",
    "}\n",
    "\n",
    "// Call the class here\n",
    "const player = new TennisPlayer(\"Novak Djokovic\", 1, 16000, 36, 130, 96);\n",
    "player.profile();"
   ]
  },
  {
   "cell_type": "markdown",
   "id": "847cedc1",
   "metadata": {},
   "source": [
    "## Popcorn Hack 2\n",
    "\n",
    "1. Create a class called library\n",
    "2. Within library create a class called book with a constructors that allows the two methods - add book and remove book\n",
    "3. Add another inner class called computers - and have it output the number of computers on\n",
    "\n",
    "Below is the starter code to get you started"
   ]
  },
  {
   "cell_type": "code",
   "execution_count": 11,
   "id": "e7bad2b3",
   "metadata": {
    "vscode": {
     "languageId": "javascript"
    }
   },
   "outputs": [
    {
     "data": {
      "application/javascript": "\nclass Library {\n    constructor(name) {\n        this.name = name;\n        console.log(`Welcome to the ${this.name} Library!`);\n    }\n\n    static Book = class {\n        constructor() {\n            this.books = [];\n        }\n\n        addBook(title) {\n            this.books.push(title);\n            console.log(`Added \"${title}\" to the library.`);\n        }\n\n        removeBook(title) { \n            const index = this.books.indexOf(title);\n            if (index > -1) {\n                this.books.splice(index, 1);\n                console.log(`Removed \"${title}\" from the library.`);\n            } else {\n                console.log(`\"${title}\" not found in the library.`);\n            }\n        }\n    }\n\n    static Computers = class {\n        constructor(computersOn) {\n            this.computersOn = computersOn;\n        }\n\n        showComputersOn() {\n            console.log(`There are ${this.computersOn} computers on.`);\n        }\n    }\n}\n\n// Example usage\nconst myLibrary = new Library(\"Downtown\");\nconst bookManager = new Library.Book();\nconst techRoom = new Library.Computers(8);\n\nbookManager.addBook(\"The Hobbit\");\nbookManager.addBook(\"1984\");\nbookManager.removeBook(\"The Hobbit\");\ntechRoom.showComputersOn();\n",
      "text/plain": [
       "<IPython.core.display.Javascript object>"
      ]
     },
     "metadata": {},
     "output_type": "display_data"
    }
   ],
   "source": [
    "%%javascript\n",
    "\n",
    "class Library {\n",
    "    constructor(name) {\n",
    "        this.name = name;\n",
    "        console.log(`Welcome to the ${this.name} Library!`);\n",
    "    }\n",
    "\n",
    "    static Book = class {\n",
    "        constructor() {\n",
    "            this.books = [];\n",
    "        }\n",
    "\n",
    "        addBook(title) {\n",
    "            this.books.push(title);\n",
    "            console.log(`Added \"${title}\" to the library.`);\n",
    "        }\n",
    "\n",
    "        removeBook(title) { \n",
    "            const index = this.books.indexOf(title);\n",
    "            if (index > -1) {\n",
    "                this.books.splice(index, 1);\n",
    "                console.log(`Removed \"${title}\" from the library.`);\n",
    "            } else {\n",
    "                console.log(`\"${title}\" not found in the library.`);\n",
    "            }\n",
    "        }\n",
    "    }\n",
    "\n",
    "    static Computers = class {\n",
    "        constructor(computersOn) {\n",
    "            this.computersOn = computersOn;\n",
    "        }\n",
    "\n",
    "        showComputersOn() {\n",
    "            console.log(`There are ${this.computersOn} computers on.`);\n",
    "        }\n",
    "    }\n",
    "}\n",
    "\n",
    "// Example usage\n",
    "const myLibrary = new Library(\"Downtown\");\n",
    "const bookManager = new Library.Book();\n",
    "const techRoom = new Library.Computers(8);\n",
    "\n",
    "bookManager.addBook(\"The Hobbit\");\n",
    "bookManager.addBook(\"1984\");\n",
    "bookManager.removeBook(\"The Hobbit\");\n",
    "techRoom.showComputersOn();"
   ]
  },
  {
   "cell_type": "markdown",
   "id": "24d1fadb",
   "metadata": {},
   "source": [
    "## Homework\n",
    "Create and expand the Cookie Clicker project:\n",
    "1. Fill out the cookies and cookiesPerClick variables.\n",
    "2. Define what should happen upon clicking the cookie.\n",
    "3. Create an `Upgrade` class that multiplies cookies per click, and expand the original cookieclicker class to integrate upgardes.\n",
    "5. Print how each upgrade changes the total cookie output.\n",
    "6. Add a cookie type variable which sets the specific type of cookie (ex: Chocolate chip, Oatmeal, etc.)\n",
    "The following code is to help you get started.\n",
    "\n",
    "#### Extra credit: Up to 0.03 points\n",
    "- Create a new cell, apply the ALL of the above changes to a blank cookie clicker project, and submit that code for the cookie clicker project."
   ]
  },
  {
   "cell_type": "code",
   "execution_count": 10,
   "id": "e9c84d6f",
   "metadata": {
    "vscode": {
     "languageId": "javascript"
    }
   },
   "outputs": [
    {
     "data": {
      "application/javascript": "\nclass CookieClicker {\n    constructor(cookies = 0, cookiesPerClick = 1, cookieType = \"Chocolate Chip\") {\n        this.cookies = cookies;\n        this.cookiesPerClick = cookiesPerClick;\n        this.cookieType = cookieType;\n    }\n\n    click() {\n        this.cookies += this.cookiesPerClick;\n        console.log(`You have ${this.cookies} ${this.cookieType} cookies.`);\n    }\n\n    showStatus() {\n        console.log(`Current status: ${this.cookies} cookies, ${this.cookiesPerClick} per click`);\n    }\n}\n\nclass Upgrade {\n    constructor(multiplier, name) {\n        this.multiplier = multiplier;\n        this.name = name;\n    }\n\n    applyUpgrade(cookieClicker) {\n        cookieClicker.cookiesPerClick *= this.multiplier;\n        console.log(`Applied ${this.name}! New cookies per click: ${cookieClicker.cookiesPerClick}`);\n    }\n}\n\n// Example usage\nconst game = new CookieClicker(0, 1, \"Chocolate Chip\");\ngame.click();\ngame.showStatus();\n\nconst doubleClickUpgrade = new Upgrade(2, \"Double Click Power\");\ndoubleClickUpgrade.applyUpgrade(game);\ngame.click();\ngame.showStatus();\n",
      "text/plain": [
       "<IPython.core.display.Javascript object>"
      ]
     },
     "metadata": {},
     "output_type": "display_data"
    }
   ],
   "source": [
    "%%javascript\n",
    "\n",
    "class CookieClicker {\n",
    "    constructor(cookies = 0, cookiesPerClick = 1, cookieType = \"Chocolate Chip\") {\n",
    "        this.cookies = cookies;\n",
    "        this.cookiesPerClick = cookiesPerClick;\n",
    "        this.cookieType = cookieType;\n",
    "    }\n",
    "\n",
    "    click() {\n",
    "        this.cookies += this.cookiesPerClick;\n",
    "        console.log(`You have ${this.cookies} ${this.cookieType} cookies.`);\n",
    "    }\n",
    "\n",
    "    showStatus() {\n",
    "        console.log(`Current status: ${this.cookies} cookies, ${this.cookiesPerClick} per click`);\n",
    "    }\n",
    "}\n",
    "\n",
    "class Upgrade {\n",
    "    constructor(multiplier, name) {\n",
    "        this.multiplier = multiplier;\n",
    "        this.name = name;\n",
    "    }\n",
    "\n",
    "    applyUpgrade(cookieClicker) {\n",
    "        cookieClicker.cookiesPerClick *= this.multiplier;\n",
    "        console.log(`Applied ${this.name}! New cookies per click: ${cookieClicker.cookiesPerClick}`);\n",
    "    }\n",
    "}\n",
    "\n",
    "// Example usage\n",
    "const game = new CookieClicker(0, 1, \"Chocolate Chip\");\n",
    "game.click();\n",
    "game.showStatus();\n",
    "\n",
    "const doubleClickUpgrade = new Upgrade(2, \"Double Click Power\");\n",
    "doubleClickUpgrade.applyUpgrade(game);\n",
    "game.click();\n",
    "game.showStatus();"
   ]
  },
  {
   "cell_type": "code",
   "execution_count": null,
   "id": "b6ab4da2",
   "metadata": {
    "vscode": {
     "languageId": "javascript"
    }
   },
   "outputs": [],
   "source": [
    "%%javascript\n",
    "\n",
    "// Extra Credit: Clean implementation of Cookie Clicker\n",
    "class CookieClicker {\n",
    "    constructor(cookieType = \"Chocolate Chip\") {\n",
    "        this.cookies = 0;\n",
    "        this.cookiesPerClick = 1;\n",
    "        this.cookieType = cookieType;\n",
    "        this.upgradeHistory = [];\n",
    "        console.log(`Starting new game with ${this.cookieType} cookies!`);\n",
    "    }\n",
    "\n",
    "    click(times = 1) {\n",
    "        for (let i = 0; i < times; i++) {\n",
    "            this.cookies += this.cookiesPerClick;\n",
    "        }\n",
    "        console.log(`Clicked ${times} time(s)! You now have ${this.cookies} ${this.cookieType} cookies.`);\n",
    "    }\n",
    "\n",
    "    showStatus() {\n",
    "        console.log(`\n",
    "Cookie Status:\n",
    "- Type: ${this.cookieType}\n",
    "- Total Cookies: ${this.cookies}\n",
    "- Cookies per Click: ${this.cookiesPerClick}\n",
    "- Upgrades Applied: ${this.upgradeHistory.length}\n",
    "        `);\n",
    "    }\n",
    "}\n",
    "\n",
    "class Upgrade {\n",
    "    constructor(multiplier, name, cost = 10) {\n",
    "        this.multiplier = multiplier;\n",
    "        this.name = name;\n",
    "        this.cost = cost;\n",
    "    }\n",
    "\n",
    "    canApply(cookieClicker) {\n",
    "        return cookieClicker.cookies >= this.cost;\n",
    "    }\n",
    "\n",
    "    applyUpgrade(cookieClicker) {\n",
    "        if (!this.canApply(cookieClicker)) {\n",
    "            console.log(`Not enough cookies! Need ${this.cost} cookies to purchase ${this.name}.`);\n",
    "            return false;\n",
    "        }\n",
    "\n",
    "        const oldCPS = cookieClicker.cookiesPerClick;\n",
    "        cookieClicker.cookies -= this.cost;\n",
    "        cookieClicker.cookiesPerClick *= this.multiplier;\n",
    "        cookieClicker.upgradeHistory.push(this.name);\n",
    "\n",
    "        console.log(`\n",
    "Upgrade Applied: ${this.name}\n",
    "- Cost: ${this.cost} cookies\n",
    "- Old cookies per click: ${oldCPS}\n",
    "- New cookies per click: ${cookieClicker.cookiesPerClick}\n",
    "- Multiplier: ${this.multiplier}x\n",
    "        `);\n",
    "        return true;\n",
    "    }\n",
    "}\n",
    "\n",
    "// Demonstration\n",
    "console.log(\"=== Starting Cookie Clicker Game ===\");\n",
    "const game = new CookieClicker(\"Double Chocolate\");\n",
    "game.showStatus();\n",
    "\n",
    "// Click a few times to earn cookies\n",
    "game.click(5);\n",
    "\n",
    "// Try to apply first upgrade\n",
    "const basicUpgrade = new Upgrade(2, \"Basic Boost\", 3);\n",
    "basicUpgrade.applyUpgrade(game);\n",
    "\n",
    "// Click more to afford better upgrade\n",
    "game.click(3);\n",
    "\n",
    "// Apply better upgrade\n",
    "const superUpgrade = new Upgrade(3, \"Super Boost\", 10);\n",
    "superUpgrade.applyUpgrade(game);\n",
    "\n",
    "// Final status\n",
    "game.showStatus();"
   ]
  },
  {
   "cell_type": "markdown",
   "id": "0180a89f",
   "metadata": {},
   "source": [
    "This is where you will find homework: [Github Homework Link](https://github.com/Open-Coding-Society/pages/tree/main/_notebooks/CSSE/JavaScriptLessons/Classes_and_Methods)"
   ]
  }
 ],
 "metadata": {
  "kernelspec": {
   "display_name": "venv",
   "language": "python",
   "name": "python3"
  },
  "language_info": {
   "codemirror_mode": {
    "name": "ipython",
    "version": 3
   },
   "file_extension": ".py",
   "mimetype": "text/x-python",
   "name": "python",
   "nbconvert_exporter": "python",
   "pygments_lexer": "ipython3",
   "version": "3.12.3"
  }
 },
 "nbformat": 4,
 "nbformat_minor": 5
}
