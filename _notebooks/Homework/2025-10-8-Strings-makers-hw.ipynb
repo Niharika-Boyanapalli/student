{
 "cells": [
  {
   "cell_type": "raw",
   "id": "04560c95",
   "metadata": {
    "vscode": {
     "languageId": "raw"
    }
   },
   "source": [
    "---\n",
    "layout: post\n",
    "title: Strings Homework\n",
    "description:  Strings Homework\n",
    "categories: [Javascript, Homework]\n",
    "permalink: /strings-homework\n",
    "author: Makers\n",
    "---"
   ]
  },
  {
   "cell_type": "markdown",
   "id": "905d8e89",
   "metadata": {},
   "source": [
    "<hr>\n",
    "\n",
    "# JavaScript Strings Popcorn Hacks & Homework"
   ]
  },
  {
   "cell_type": "markdown",
   "id": "5914a247",
   "metadata": {},
   "source": [
    "## Popcorn Hack #1 - Secret Password"
   ]
  },
  {
   "cell_type": "markdown",
   "id": "98fb2838",
   "metadata": {},
   "source": [
    "### Instructions:\n",
    "\n",
    "1.\tCreate three string variables named secretBase, codeWord, and symbol.\n",
    "\t•\tEach should contain text inside quotes (\" \" or ' ').\n",
    "2.\tFind the number of characters in the secretBase string.\n",
    "\t•\tUse the .length property to count how many characters are in the string.\n",
    "\t•\tStore this value in a new variable called baseLength.\n",
    "3.\tChange all the letters in the codeWord string to uppercase.\n",
    "\t•\tUse the .toUpperCase() method and store the result in a variable named fullCode.\n",
    "4.\tCombine all the strings together to reveal the full secret message.\n",
    "\t•\tUse the + operator to concatenate secretBase, fullCode, and symbol.\n",
    "\t•\tSave it to a variable named fullSecret.\n",
    "5.\tPrint your results using console.log().\n",
    "\t•\tDisplay both the string length and the full secret message in the console."
   ]
  },
  {
   "cell_type": "code",
   "execution_count": 1,
   "id": "d392cf50",
   "metadata": {
    "vscode": {
     "languageId": "javascript"
    }
   },
   "outputs": [
    {
     "data": {
      "application/javascript": "\n// Task 1: Create your variables\n\nlet secretBase = \"moonlight \";\nlet codeWord = \"stealth\";\nlet symbol = \" #42\";\n\n// Task 2: Find the number of characters in the first string.\nlet baseLength = secretBase.length;\n\n// Task 3: Standardize the second string to all uppercase letters.\nlet fullCode = codeWord.toUpperCase();\n// Task 4: Combine everything to reveal the full secret.\nlet fullSecret = secretBase + fullCode + symbol;\n\n// Task 5: Print the results.\nconsole.log(\"Full Secret: \" + fullSecret);\nconsole.log(\"Base Length: \" + baseLength);\n\nconsole.log(\"Code Word (UPPERCASE): \" + fullCode);\n",
      "text/plain": [
       "<IPython.core.display.Javascript object>"
      ]
     },
     "metadata": {},
     "output_type": "display_data"
    }
   ],
   "source": [
    "%%javascript\n",
    "\n",
    "// Task 1: Create your variables\n",
    "\n",
    "let secretBase = \"moonlight \";\n",
    "let codeWord = \"stealth\";\n",
    "let symbol = \" #42\";\n",
    "\n",
    "// Task 2: Find the number of characters in the first string.\n",
    "let baseLength = secretBase.length;\n",
    "\n",
    "// Task 3: Standardize the second string to all uppercase letters.\n",
    "let fullCode = codeWord.toUpperCase();\n",
    "// Task 4: Combine everything to reveal the full secret.\n",
    "let fullSecret = secretBase + fullCode + symbol;\n",
    "\n",
    "// Task 5: Print the results.\n",
    "console.log(\"Full Secret: \" + fullSecret);\n",
    "console.log(\"Base Length: \" + baseLength);\n",
    "\n",
    "console.log(\"Code Word (UPPERCASE): \" + fullCode);"
   ]
  },
  {
   "cell_type": "markdown",
   "id": "2573df28",
   "metadata": {},
   "source": [
    "<hr>\n",
    "\n",
    "## Popcorn Hack #2 - Grocery Store"
   ]
  },
  {
   "cell_type": "markdown",
   "id": "264a65e7",
   "metadata": {},
   "source": [
    "### Instructions:\n",
    "\n",
    "1.\tDefine your variables and string values\n",
    "\t•\tEach should contain text inside quotes (\" \" or ' ').\n",
    "    •\tYour variables should include: `ingredient`, `price`, and `store`.\n",
    "2.\tWrite a message using template liberals.\n",
    "\t•\tUsing mlti-line strings and interpolation, create a complex sentence writing an automated message advertising a discounted item.\n",
    "\t•\tUse backticks!!\n",
    "3.\tUse interpolation to check the amount of characters in the lesson!\n",
    "\t•\tUse `${}` and `.length` to help.\n",
    "4.\tPrint your results using console.log().\n",
    "\t•\tDisplay both the string length and the full secret message in the console."
   ]
  },
  {
   "cell_type": "code",
   "execution_count": 5,
   "id": "8c5ea064",
   "metadata": {
    "vscode": {
     "languageId": "javascript"
    }
   },
   "outputs": [
    {
     "data": {
      "application/javascript": "let ingredient = \"Chocolate Chips\"; \nlet price = \"2.99\";\nlet store = \"Corner Market\";\n\n// Task 2: Write the complex sentence using a template literal (backticks).\n// Use ${} to insert the variables directly.\nconst snackMessage = `Special Offer! Get ${ingredient} for just $${price} at ${store}! Hurry, limited time.`;\n\n// Task 3. Check the length of the full message and print it to the console.\n\nconsole.log(`The full message is ${snackMessage.length} characters long.`);\n\nconsole.log(snackMessage);\n",
      "text/plain": [
       "<IPython.core.display.Javascript object>"
      ]
     },
     "metadata": {},
     "output_type": "display_data"
    }
   ],
   "source": [
    "%%javascript\n",
    "let ingredient = \"Chocolate Chips\"; \n",
    "let price = \"2.99\";\n",
    "let store = \"Corner Market\";\n",
    "\n",
    "// Task 2: Write the complex sentence using a template literal (backticks).\n",
    "// Use ${} to insert the variables directly.\n",
    "const snackMessage = `Special Offer! Get ${ingredient} for just $${price} at ${store}! Hurry, limited time.`;\n",
    "\n",
    "// Task 3. Check the length of the full message and print it to the console.\n",
    "\n",
    "console.log(`The full message is ${snackMessage.length} characters long.`);\n",
    "\n",
    "console.log(snackMessage);"
   ]
  },
  {
   "cell_type": "markdown",
   "id": "2202b84e",
   "metadata": {},
   "source": [
    "<hr>\n",
    "\n",
    "# Homework\n",
    "\n",
    "Objective: Apply string concepts (const, quotes, .length, .toUpperCase(), and template literals) to format game data.\n",
    "\n",
    "## 🏷️ Part A - String Variables & Quotes\n",
    "Create a constant variable named `UPGRADE_NAME` and assign it the string value `\"Lucky Seven\"`. Print this variable to the console.\n",
    "\n",
    "Create a variable named `cost` and assign it the number value 7777. Print this number to the console.\n",
    "\n",
    "Create a variable named `EMOJI` and assign it the emoji string value \"🍀\". \n",
    "\n",
    "Create a variable named `BUTTON_CLASS` and assign it the string value: bg-green-500 hover:bg-green-600 text-white. \n",
    "\n",
    "## 📏 Part B – Length and Modification\n",
    "Using the `UPGRADE_NAME` variable from above, create a new constant variable named `DISPLAY_NAME` that converts the name to all uppercase letters. Print `DISPLAY_NAME`.\n",
    "\n",
    "Create a constant variable named `NAME_LENGTH` that stores the total number of characters (including spaces) in the original `UPGRADE_NAME`. Print the length to the console with a label like: \"Name Character Count: [Count]\".\n",
    "\n",
    "Create a variable named message that stores the exact string below. \n",
    "\n",
    "\"Insufficient Cookies\"\n",
    "\n",
    "## ✨ Part C – Template Literal Interpolation\n",
    "Use string concatenation (the + sign) to combine the EMOJI, UPGRADE_NAME, and cost variables into the following exact output. Print the result.\n",
    "Challenge (extra credit): Use String Interpolation \n",
    "\n",
    "🍀 Lucky Seven (7777 Cookies)\n",
    "Now, rewrite the entire message from problem 8 using a template literal (backticks `) and interpolation (${}). Store the result in a new variable called shopButtonText. Print shopButtonText.\n",
    "\n",
    "The Final Message: Create a constant variable named errorDisplay that uses a template literal to combine the following three variables into one clean message: EMOJI, UPGRADE_NAME, and message.\n",
    "\n",
    "Error: 🍀 Lucky Seven purchase failed: \"Insufficient Cookies\"\n",
    "Hint: The quote marks around Insufficient Cookies must be part of the final output string.\n",
    "\n",
    "\n",
    "🌟 Extra Credit Challenge (Optional)\n",
    "Create a variable named `HINT_TEXT` that stores the following exact quote:\n",
    "The \"Lucky Seven\" upgrade multiplies your clicks by 7.\n"
   ]
  },
  {
   "cell_type": "code",
   "execution_count": 6,
   "id": "37d36636",
   "metadata": {
    "vscode": {
     "languageId": "javascript"
    }
   },
   "outputs": [
    {
     "data": {
      "application/javascript": "// Part A: Variables and Quotes\n// 1. Create constant UPGRADE_NAME and print\nconst UPGRADE_NAME = \"Lucky Seven\";\nconsole.log(UPGRADE_NAME);\n// 2. Create cost and print\nlet cost = 7777;\nconsole.log(cost);\n// 3. Create EMOJI and print\nlet EMOJI = \"🍀\";\nconsole.log(EMOJI);\n// 4. Create BUTTON_CLASS and print\nlet BUTTON_CLASS = \"bg-green-500 hover:bg-green-600 text-white\";\nconsole.log(BUTTON_CLASS);\n\n// Part B: Length and Modification\n// 5. DISPLAY_NAME uppercase\nconst DISPLAY_NAME = UPGRADE_NAME.toUpperCase();\nconsole.log(DISPLAY_NAME);\n// 6. NAME_LENGTH count including spaces\nconst NAME_LENGTH = UPGRADE_NAME.length;\nconsole.log(\"Name Character Count: \" + NAME_LENGTH);\n// 7. message exact string\nlet message = \"\\\"Insufficient Cookies\\\"\";\n// The above line includes quotes as part of the string output. To print exactly \"Insufficient Cookies\"\nconsole.log(message);\n\n// Part C: Interpolation\n// 8. Concatenate using + to get: 🍀 Lucky Seven (7777 Cookies)\nconsole.log(EMOJI + ' ' + UPGRADE_NAME + ' (' + cost + ' Cookies)');\n// 9. Use template literal to create shopButtonText and print\nlet shopButtonText = `${EMOJI} ${UPGRADE_NAME} (${cost} Cookies)`;\nconsole.log(shopButtonText);\n// 10. errorDisplay with quoted message\nconst errorDisplay = `${EMOJI} ${UPGRADE_NAME} purchase failed: \"Insufficient Cookies\"`;\nconsole.log('Error: ' + errorDisplay);\n\n// Extra Credit: HINT_TEXT exact quote\nlet HINT_TEXT = 'The \"Lucky Seven\" upgrade multiplies your clicks by 7.';\nconsole.log(HINT_TEXT);\n",
      "text/plain": [
       "<IPython.core.display.Javascript object>"
      ]
     },
     "metadata": {},
     "output_type": "display_data"
    }
   ],
   "source": [
    "%%javascript \n",
    "// Part A: Variables and Quotes\n",
    "// 1. Create constant UPGRADE_NAME and print\n",
    "const UPGRADE_NAME = \"Lucky Seven\";\n",
    "console.log(UPGRADE_NAME);\n",
    "// 2. Create cost and print\n",
    "let cost = 7777;\n",
    "console.log(cost);\n",
    "// 3. Create EMOJI and print\n",
    "let EMOJI = \"🍀\";\n",
    "console.log(EMOJI);\n",
    "// 4. Create BUTTON_CLASS and print\n",
    "let BUTTON_CLASS = \"bg-green-500 hover:bg-green-600 text-white\";\n",
    "console.log(BUTTON_CLASS);\n",
    "\n",
    "// Part B: Length and Modification\n",
    "// 5. DISPLAY_NAME uppercase\n",
    "const DISPLAY_NAME = UPGRADE_NAME.toUpperCase();\n",
    "console.log(DISPLAY_NAME);\n",
    "// 6. NAME_LENGTH count including spaces\n",
    "const NAME_LENGTH = UPGRADE_NAME.length;\n",
    "console.log(\"Name Character Count: \" + NAME_LENGTH);\n",
    "// 7. message exact string\n",
    "let message = \"\\\"Insufficient Cookies\\\"\";\n",
    "// The above line includes quotes as part of the string output. To print exactly \"Insufficient Cookies\"\n",
    "console.log(message);\n",
    "\n",
    "// Part C: Interpolation\n",
    "// 8. Concatenate using + to get: 🍀 Lucky Seven (7777 Cookies)\n",
    "console.log(EMOJI + ' ' + UPGRADE_NAME + ' (' + cost + ' Cookies)');\n",
    "// 9. Use template literal to create shopButtonText and print\n",
    "let shopButtonText = `${EMOJI} ${UPGRADE_NAME} (${cost} Cookies)`;\n",
    "console.log(shopButtonText);\n",
    "// 10. errorDisplay with quoted message\n",
    "const errorDisplay = `${EMOJI} ${UPGRADE_NAME} purchase failed: \"Insufficient Cookies\"`;\n",
    "console.log('Error: ' + errorDisplay);\n",
    "\n",
    "// Extra Credit: HINT_TEXT exact quote\n",
    "let HINT_TEXT = 'The \"Lucky Seven\" upgrade multiplies your clicks by 7.';\n",
    "console.log(HINT_TEXT);"
   ]
  }
 ],
 "metadata": {
  "kernelspec": {
   "display_name": "venv",
   "language": "python",
   "name": "python3"
  },
  "language_info": {
   "codemirror_mode": {
    "name": "ipython",
    "version": 3
   },
   "file_extension": ".py",
   "mimetype": "text/x-python",
   "name": "python",
   "nbconvert_exporter": "python",
   "pygments_lexer": "ipython3",
   "version": "3.12.3"
  }
 },
 "nbformat": 4,
 "nbformat_minor": 5
}
