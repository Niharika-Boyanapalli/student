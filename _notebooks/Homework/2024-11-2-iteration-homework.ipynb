{
 "cells": [
  {
   "cell_type": "code",
   "execution_count": null,
   "metadata": {},
   "outputs": [],
   "source": [
    "---\n",
    "comments: True\n",
    "layout: post\n",
    "title: Iteration Homework\n",
    "description: An intro to data abstraction\n",
    "permalink: /csse/javascript/fundamentals/iteration/hw\n",
    "categories: [CSSE JavaScript Fundamentals]\n",
    "author: Kian Zhu, Michael Xu and Srinaga Pillutla\n",
    "---"
   ]
  },
  {
   "cell_type": "markdown",
   "metadata": {},
   "source": [
    "## Homework Assignment: for Loop Challenge\n",
    "Task: Create a program that does the following:\n",
    "\n",
    "Initialize an array with the names of five of your favorite movies.\n",
    "Use a for loop to iterate through the array and print each movie name to the console.\n",
    "After printing all movie names, print a message indicating how many movies you listed."
   ]
  },
  {
   "cell_type": "code",
   "execution_count": null,
   "metadata": {
    "vscode": {
     "languageId": "javascript"
    }
   },
   "outputs": [],
   "source": [
    "%%javascript\n",
    "// for Loop Challenge solution: list favorite movies and count them\n",
    "const favoriteMovies = [\"The Matrix\", \"Spirited Away\", \"Inception\", \"The Lord of the Rings\", \"Interstellar\"];\n",
    "for (let i = 0; i < favoriteMovies.length; i++) {\n",
    "  console.log(`Movie ${i+1}: ${favoriteMovies[i]}`);\n",
    "}\n",
    "console.log(`You listed ${favoriteMovies.length} movies.`);"
   ]
  },
  {
   "cell_type": "markdown",
   "metadata": {},
   "source": [
    "# **Homework**\n",
    "\n",
    "Create a **3 by 3, 2D list** that represents a **tictactoe board**.\n",
    "Use **\"X\"** for X, **\"O\"** for O, and **None** for empty tiles.\n",
    "\n",
    "Ex. board = [[\"X\",\"None\",\"O\"],  \n",
    "&emsp;&emsp;&emsp;&emsp;&emsp;&emsp;&ensp;[\"X\",\"O\",\"None\"],  \n",
    "&emsp;&emsp;&emsp;&emsp;&emsp;&emsp;&ensp;[\"O\",\"None\",\"X\"]]\n",
    "\n",
    "Iterate over the board and **identify whether it is player X's or player O's turn.**\n",
    "\n",
    "**Hint**: count the number of moves(non-None). (X goes first)\n",
    "\n",
    "**Optional**: use console.error() to report an error if the board is illegal (ex. 7 \"X\"s and 2 \"O\"s)"
   ]
  },
  {
   "cell_type": "code",
   "execution_count": 1,
   "metadata": {
    "vscode": {
     "languageId": "javascript"
    }
   },
   "outputs": [
    {
     "data": {
      "application/javascript": "// Tic-tac-toe board turn detector\n// Use null for empty tiles\nfunction identifyTurn(board) {\n  // Validate board shape\n  if (!Array.isArray(board) || board.length !== 3 || board.some(row => !Array.isArray(row) || row.length !== 3)) {\n    console.error('Invalid board shape');\n    return;\n  }\n\n  let xCount = 0;\n  let oCount = 0;\n  for (let r = 0; r < 3; r++) {\n    for (let c = 0; c < 3; c++) {\n      const val = board[r][c];\n      if (val === 'X') xCount++;\n      else if (val === 'O') oCount++;\n      else if (val !== null && val !== 'None') {\n        console.error('Invalid tile value at', r, c, ':', val);\n        return;\n      }\n    }\n  }\n\n  // Check legality: X goes first, so xCount should be either oCount or oCount + 1\n  if (!(xCount === oCount || xCount === oCount + 1)) {\n    console.error('Illegal board: incorrect number of Xs and Os', {xCount, oCount});\n    return;\n  }\n\n  // Determine whose turn it is: if equal, it's X's turn; if xCount is one more, it's O's turn\n  const next = (xCount === oCount) ? 'X' : 'O';\n  console.log(`X count: ${xCount}, O count: ${oCount} -> Next turn: ${next}`);\n  return next;\n}\n\n// Example board and call\nconst boardExample = [\n  ['X', null, 'O'],\n  ['X', 'O', null],\n  ['O', null, 'X']\n];\nidentifyTurn(boardExample);\n",
      "text/plain": [
       "<IPython.core.display.Javascript object>"
      ]
     },
     "metadata": {},
     "output_type": "display_data"
    }
   ],
   "source": [
    "%%javascript\n",
    "// Tic-tac-toe board turn detector\n",
    "// Use null for empty tiles\n",
    "function identifyTurn(board) {\n",
    "  // Validate board shape\n",
    "  if (!Array.isArray(board) || board.length !== 3 || board.some(row => !Array.isArray(row) || row.length !== 3)) {\n",
    "    console.error('Invalid board shape');\n",
    "    return;\n",
    "  }\n",
    "\n",
    "  let xCount = 0;\n",
    "  let oCount = 0;\n",
    "  for (let r = 0; r < 3; r++) {\n",
    "    for (let c = 0; c < 3; c++) {\n",
    "      const val = board[r][c];\n",
    "      if (val === 'X') xCount++;\n",
    "      else if (val === 'O') oCount++;\n",
    "      else if (val !== null && val !== 'None') {\n",
    "        console.error('Invalid tile value at', r, c, ':', val);\n",
    "        return;\n",
    "      }\n",
    "    }\n",
    "  }\n",
    "\n",
    "  // Check legality: X goes first, so xCount should be either oCount or oCount + 1\n",
    "  if (!(xCount === oCount || xCount === oCount + 1)) {\n",
    "    console.error('Illegal board: incorrect number of Xs and Os', {xCount, oCount});\n",
    "    return;\n",
    "  }\n",
    "\n",
    "  // Determine whose turn it is: if equal, it's X's turn; if xCount is one more, it's O's turn\n",
    "  const next = (xCount === oCount) ? 'X' : 'O';\n",
    "  console.log(`X count: ${xCount}, O count: ${oCount} -> Next turn: ${next}`);\n",
    "  return next;\n",
    "}\n",
    "\n",
    "// Example board and call\n",
    "const boardExample = [\n",
    "  ['X', null, 'O'],\n",
    "  ['X', 'O', null],\n",
    "  ['O', null, 'X']\n",
    "];\n",
    "identifyTurn(boardExample);"
   ]
  },
  {
   "cell_type": "markdown",
   "metadata": {},
   "source": [
    "## H.W application of While Loops. \n",
    "\n",
    "Create the Outer Loop:\n",
    "\n",
    "Use a while loop that runs while outerFactor is less than or equal to 10.\n",
    "Initialize the Inner Loop Variable:\n",
    "\n",
    "Inside the outer loop, create another variable called innerFactor and set it to 1.\n",
    "Create the Inner Loop:\n",
    "\n",
    "Inside the outer loop, use another while loop that runs while innerFactor is less than or equal to 10.\n",
    "Calculate the Product:\n",
    "\n",
    "Inside the inner loop, calculate the product of outerFactor and innerFactor.\n",
    "Print the Product:\n",
    "\n",
    "Print the product using console.log(), formatting the output neatly.\n",
    "Increment the Inner Loop Variable:\n",
    "\n",
    "After printing the product, increment innerFactor by 1.\n",
    "Move to the Next Line:\n",
    "\n",
    "After the inner loop finishes, print a new line to separate rows.\n",
    "Increment the Outer Loop Variable:\n",
    "\n",
    "Increment outerFactor by 1 to move to the next row in the table."
   ]
  },
  {
   "cell_type": "code",
   "execution_count": 2,
   "metadata": {
    "vscode": {
     "languageId": "javascript"
    }
   },
   "outputs": [
    {
     "data": {
      "application/javascript": "// Nested while-loop multiplication table 1..10\nlet outerFactor = 1;\nwhile (outerFactor <= 10) {\n  let innerFactor = 1;\n  let row = '';\n  while (innerFactor <= 10) {\n    const product = outerFactor * innerFactor;\n    // pad numbers for neat columns (width 4)\n    row += product.toString().padStart(4, ' ') + ' ';\n    innerFactor++;\n  }\n  console.log(row);\n  outerFactor++;\n}\n",
      "text/plain": [
       "<IPython.core.display.Javascript object>"
      ]
     },
     "metadata": {},
     "output_type": "display_data"
    }
   ],
   "source": [
    "%%javascript\n",
    "// Nested while-loop multiplication table 1..10\n",
    "let outerFactor = 1;\n",
    "while (outerFactor <= 10) {\n",
    "  let innerFactor = 1;\n",
    "  let row = '';\n",
    "  while (innerFactor <= 10) {\n",
    "    const product = outerFactor * innerFactor;\n",
    "    // pad numbers for neat columns (width 4)\n",
    "    row += product.toString().padStart(4, ' ') + ' ';\n",
    "    innerFactor++;\n",
    "  }\n",
    "  console.log(row);\n",
    "  outerFactor++;\n",
    "}"
   ]
  }
 ],
 "metadata": {
  "kernelspec": {
   "display_name": "venv",
   "language": "python",
   "name": "python3"
  },
  "language_info": {
   "codemirror_mode": {
    "name": "ipython",
    "version": 3
   },
   "file_extension": ".py",
   "mimetype": "text/x-python",
   "name": "python",
   "nbconvert_exporter": "python",
   "pygments_lexer": "ipython3",
   "version": "3.12.3"
  }
 },
 "nbformat": 4,
 "nbformat_minor": 2
}
